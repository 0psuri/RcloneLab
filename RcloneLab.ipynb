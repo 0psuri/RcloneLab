{
  "nbformat": 4,
  "nbformat_minor": 0,
  "metadata": {
    "colab": {
      "name": "RcloneLab",
      "version": "0.3.2",
      "provenance": [],
      "collapsed_sections": [
        "9OuICLXLLxce"
      ],
      "include_colab_link": true
    },
    "kernelspec": {
      "display_name": "Python 3",
      "name": "python3"
    }
  },
  "cells": [
    {
      "cell_type": "markdown",
      "metadata": {
        "id": "view-in-github",
        "colab_type": "text"
      },
      "source": [
        "<a href=\"https://colab.research.google.com/github/MinorMole/RcloneLab/blob/master/RcloneLab.ipynb\" target=\"_parent\"><img src=\"https://colab.research.google.com/assets/colab-badge.svg\" alt=\"Open In Colab\"/></a>"
      ]
    },
    {
      "metadata": {
        "id": "HGctdySsIGFS",
        "colab_type": "text"
      },
      "cell_type": "markdown",
      "source": [
        "\n",
        "<img height=\"44px\" src=\"https://rclone.org/img/rclone-120x120.png\" align=\"left\" hspace=\"20px\"><h1>Welcome to RcloneLab!</h1>"
      ]
    },
    {
      "metadata": {
        "id": "hA087ypozV-c",
        "colab_type": "text"
      },
      "cell_type": "markdown",
      "source": [
        "# Usage"
      ]
    },
    {
      "metadata": {
        "id": "RIr3CXMAGNdy",
        "colab_type": "code",
        "cellView": "form",
        "colab": {}
      },
      "cell_type": "code",
      "source": [
        "#@title <h2>RcloneLab</h2><br>\n",
        "\n",
        "# Form\n",
        "\n",
        "Mode = 'Copy' #@param [\"Copy\", \"Move\"]\n",
        "Compare = 'Size & Mod-Time' #@param [\"Size & Mod-Time\", \"Size & Checksum\"]\n",
        "Source = '' #@param {type:\"string\"}\n",
        "Destination = '' #@param {type:\"string\"}\n",
        "Transfers = 4 #@param {type:\"slider\", min:1, max:10, step:1}\n",
        "Test = False #@param {type:\"boolean\"}\n",
        "\n",
        "# Variable Declaration\n",
        "\n",
        "import os\n",
        "os.environ['Source'] = Source\n",
        "os.environ['Destination'] = Destination\n",
        "os.environ['Transfers'] = str(Transfers)\n",
        "os.environ['Checkers'] = str(Transfers*2)\n",
        "os.environ['Config'] = Config\n",
        "\n",
        "# Code Execution\n",
        "\n",
        "if Config == '':\n",
        "  print(\"Please config the rclone.conf below first.\")\n",
        "else:\n",
        "  # Execution Code\n",
        "  if Test == False:\n",
        "    if Mode == 'Copy':\n",
        "      if Compare == 'Size & Mod-Time':\n",
        "        !rclone --config=/GD/\"$Config\" copy \"$Source\" \"$Destination\" --transfers \"$Transfers\" --checkers \"$Checkers\" -v --stats=5s\n",
        "      elif Compare == 'Size & Checksum':\n",
        "        !rclone --config=/GD/\"$Config\" copy \"$Source\" \"$Destination\" --transfers \"$Transfers\" --checkers \"$Checkers\" -c -v --stats=5s\n",
        "    elif Mode == 'Move':\n",
        "      if Compare == 'Size & Mod-Time':\n",
        "        !rclone --config=/GD/\"$Config\" move \"$Source\" \"$Destination\" --transfers \"$Transfers\" --checkers \"$Checkers\" -v --stats=5s --delete-empty-src-dirs --drive-keep-revision-forever\n",
        "      elif Compare == 'Size & Checksum':\n",
        "        !rclone --config=/GD/\"$Config\" move \"$Source\" \"$Destination\" --transfers \"$Transfers\" --checkers \"$Checkers\" -c -v --stats=5s --delete-empty-src-dirs --drive-keep-revision-forever\n",
        "  else:\n",
        "    if Mode == 'Copy':\n",
        "      if Compare == 'Size & Mod-Time':\n",
        "        !rclone --config=/GD/\"$Config\" copy \"$Source\" \"$Destination\" --transfers \"$Transfers\" --checkers \"$Checkers\" -n -v --stats=5s\n",
        "      elif Compare == 'Size & Checksum':\n",
        "        !rclone --config=/GD/\"$Config\" copy \"$Source\" \"$Destination\" --transfers \"$Transfers\" --checkers \"$Checkers\" -n -c -v --stats=5s\n",
        "    elif Mode == 'Move':\n",
        "      if Compare == 'Size & Mod-Time':\n",
        "        !rclone --config=/GD/\"$Config\" move \"$Source\" \"$Destination\" --transfers \"$Transfers\" --checkers \"$Checkers\" -n -v --stats=5s --delete-empty-src-dirs --drive-keep-revision-forever\n",
        "      elif Compare == 'Size & Checksum':\n",
        "        !rclone --config=/GD/\"$Config\" move \"$Source\" \"$Destination\" --transfers \"$Transfers\" --checkers \"$Checkers\" -n -c -v --stats=5s --delete-empty-src-dirs --drive-keep-revision-forever"
      ],
      "execution_count": 0,
      "outputs": []
    },
    {
      "metadata": {
        "id": "xlCWLJf3zbGh",
        "colab_type": "code",
        "cellView": "form",
        "colab": {}
      },
      "cell_type": "code",
      "source": [
        "#@title <h2>Configuration</h2>\n",
        "Config = 'My Drive/rclone.conf' #@param {type:\"string\"}\n",
        "#@markdown <font size=\"3\" color=\"red\">*Required rclone.conf path. e.g. My Drive/rclone.conf</font>\n",
        "\n",
        "import os\n",
        "os.environ['Config'] = Config\n",
        "!rclone --config=/GD/\"$Config\" config"
      ],
      "execution_count": 0,
      "outputs": []
    },
    {
      "metadata": {
        "id": "9OuICLXLLxce",
        "colab_type": "text"
      },
      "cell_type": "markdown",
      "source": [
        "# Installation"
      ]
    },
    {
      "metadata": {
        "id": "WFoR-3URJKAW",
        "colab_type": "code",
        "cellView": "form",
        "colab": {}
      },
      "cell_type": "code",
      "source": [
        "#@markdown Note: Run this before use.\n",
        "\n",
        "!curl https://rclone.org/install.sh | sudo bash\n",
        "from google.colab import drive\n",
        "drive.mount('/GD')"
      ],
      "execution_count": 0,
      "outputs": []
    }
  ]
}