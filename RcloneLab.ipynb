{
  "nbformat": 4,
  "nbformat_minor": 0,
  "metadata": {
    "colab": {
      "name": "RcloneLab",
      "version": "0.3.2",
      "provenance": [],
      "collapsed_sections": [
        "9OuICLXLLxce"
      ],
      "include_colab_link": true
    },
    "kernelspec": {
      "display_name": "Python 3",
      "name": "python3"
    }
  },
  "cells": [
    {
      "cell_type": "markdown",
      "metadata": {
        "id": "view-in-github",
        "colab_type": "text"
      },
      "source": [
        "<a href=\"https://colab.research.google.com/github/MinorMole/RcloneLab/blob/master/RcloneLab.ipynb\" target=\"_parent\"><img src=\"https://colab.research.google.com/assets/colab-badge.svg\" alt=\"Open In Colab\"/></a>"
      ]
    },
    {
      "metadata": {
        "id": "HGctdySsIGFS",
        "colab_type": "text"
      },
      "cell_type": "markdown",
      "source": [
        "\n",
        "<img height=\"44px\" src=\"https://rclone.org/img/rclone-120x120.png\" align=\"left\" hspace=\"20px\"><h1>Welcome to RcloneLab!</h1><br>\n",
        "\n",
        "- RcloneLab is a rclone GUI for Google Colaboratory. For more information please visit our [GitHub](https://github.com/MinorMole/RcloneLab/).\n",
        "\n"
      ]
    },
    {
      "metadata": {
        "id": "hA087ypozV-c",
        "colab_type": "text"
      },
      "cell_type": "markdown",
      "source": [
        "# Usage"
      ]
    },
    {
      "metadata": {
        "id": "RIr3CXMAGNdy",
        "colab_type": "code",
        "colab": {}
      },
      "cell_type": "code",
      "source": [
        "# ============================= FORM ============================= #\n",
        "#@title <center><h2>RcloneLab</h2></center> { display-mode: \"form\" }\n",
        "Mode = 'Copy' #@param [\"Config\", \"Copy\", \"Move\", \"Checker\", \"Deduplicate\"]\n",
        "Compare = 'Size & Mod-Time' #@param [\"Size & Mod-Time\", \"Size & Checksum\", \"Only Mod-Time\", \"Only Size\", \"Only Checksum\"]\n",
        "Source = '' #@param {type:\"string\"}\n",
        "Destination = '' #@param {type:\"string\"}\n",
        "Transfers = 4 #@param {type:\"slider\", min:1, max:10, step:1}\n",
        "Checkers = 8 #@param {type:\"slider\", min:1, max:20, step:1}\n",
        "#@markdown <center><h2>Configuration</h2><br></center>\n",
        "#@markdown <center><font color=\"red\">* Required rclone.conf path. e.g. My Drive/rclone.conf</font></center>\n",
        "Config = 'My Drive/rclone.conf' #@param {type:\"string\"}\n",
        "#@markdown <center><h3><font color=\"#3399ff\"><b>Global Configuration</b></font></h3></center>\n",
        "Dry_Run = False #@param {type:\"boolean\"}\n",
        "Log = False #@param {type:\"boolean\"}\n",
        "Extra_Arguments = '' #@param {type:\"string\"}\n",
        "#@markdown - [Read more...](https://rclone.org/commands/)\n",
        "#@markdown <center><h3><font color=\"#3399ff\"><b>Deduplicate Configuration</b></font></h3></center>\n",
        "Deduplicate_Use_Trash = True #@param {type:\"boolean\"}\n",
        "Deduplicate_Mode = 'Largest' #@param [\"Interactive\", \"Skip\", \"First\", \"Newest\", \"Oldest\", \"Largest\", \"Rename\"]\n",
        "#@markdown - [Read more...](https://rclone.org/commands/rclone_dedupe/)\n",
        "# ================================================================ #\n",
        "\n",
        "# Variable Declaration\n",
        "\n",
        "import os\n",
        "from datetime import datetime,timedelta\n",
        "os.environ['sourceC'] = Source\n",
        "os.environ['destinationC'] = Destination\n",
        "os.environ['transfersC'] = str(Transfers)\n",
        "os.environ['checkersC'] = str(Checkers)\n",
        "os.environ['configC'] = Config\n",
        "os.environ['extraC'] = Extra_Arguments\n",
        "\n",
        "if Compare == 'Size & Checksum':\n",
        "  os.environ['compareC'] = \"-c\"\n",
        "elif Compare == 'Only Mod-Time':\n",
        "  os.environ['compareC'] = \"--ignore-size\"\n",
        "elif Compare == 'Only Size':\n",
        "  os.environ['compareC'] = \"--size-only\"\n",
        "elif Compare == 'Only Checksum':\n",
        "  os.environ['compareC'] = \"-c --ignore-size\"\n",
        "else:\n",
        "  os.environ['compareC'] = \"\"\n",
        "\n",
        "if Dry_Run == True:\n",
        "  os.environ['dryrunC'] = \"-n\"\n",
        "else:\n",
        "  os.environ['dryrunC'] = \"\"\n",
        "  \n",
        "if Deduplicate_Mode == 'Interactive':\n",
        "  os.environ['deduplicateC'] = \"interactive\"\n",
        "elif Deduplicate_Mode == 'Skip':\n",
        "  os.environ['deduplicateC'] = \"skip\"\n",
        "elif Deduplicate_Mode == 'First':\n",
        "  os.environ['deduplicateC'] = \"first\"\n",
        "elif Deduplicate_Mode == 'Newest':\n",
        "  os.environ['deduplicateC'] = \"newest\"\n",
        "elif Deduplicate_Mode == 'Oldest':\n",
        "  os.environ['deduplicateC'] = \"oldest\"\n",
        "elif Deduplicate_Mode == 'Largest':\n",
        "  os.environ['deduplicateC'] = \"largest\"\n",
        "elif Deduplicate_Mode == 'Rename':\n",
        "  os.environ['deduplicateC'] = \"rename\"\n",
        "  \n",
        "if Deduplicate_Use_Trash == True:\n",
        "  os.environ['deduplicatetrashC'] = \"\"\n",
        "else:\n",
        "  os.environ['deduplicatetrashC'] = \"--drive-use-trash=false\"\n",
        "\n",
        "# Code Execution\n",
        "\n",
        "if Config == '':\n",
        "  print(\"Please config the rclone.conf in Setup section first.\")\n",
        "elif Mode == 'Config':\n",
        "  !rclone --config=/GD/\"$configC\" config\n",
        "elif Log == True:\n",
        "  if Mode == 'Copy':\n",
        "    !rclone --config=/GD/\"$configC\" copy \"$sourceC\" \"$destinationC\" --transfers $transfersC --checkers $checkersC -v --stats=5s $compareC $dryrunC $extraC --log-file=rclone_log_$(date +%Y-%m-%d_%H.%M.%S).txt\n",
        "  elif Mode == 'Move':\n",
        "    !rclone --config=/GD/\"$configC\" move \"$sourceC\" \"$destinationC\" --transfers $transfersC --checkers $checkersC -v --stats=5s --delete-empty-src-dirs --drive-keep-revision-forever $compareC $dryrunC $extraC --log-file=rclone_log_$(date +%Y-%m-%d_%H.%M.%S).txt\n",
        "  elif Mode == 'Checker':\n",
        "    !rclone --config=/GD/\"$configC\" check \"$sourceC\" \"$destinationC\" --checkers $checkersC -v --stats=5s $compareC $dryrunC $extraC --log-file=rclone_log_$(date +%Y-%m-%d_%H.%M.%S).txt\n",
        "  elif Mode == 'Deduplicate':\n",
        "    !rclone --config=/GD/\"$configC\" dedupe \"$sourceC\" --checkers $checkersC -v --stats=5s --dedupe-mode $deduplicateC $deduplicatetrashC $compareC $dryrunC $extraC --log-file=rclone_log_$(date +%Y-%m-%d_%H.%M.%S).txt\n",
        "else:\n",
        "  if Mode == 'Copy':\n",
        "    !rclone --config=/GD/\"$configC\" copy \"$sourceC\" \"$destinationC\" --transfers $transfersC --checkers $checkersC -v --stats=5s $compareC $dryrunC $extraC\n",
        "  elif Mode == 'Move':\n",
        "    !rclone --config=/GD/\"$configC\" move \"$sourceC\" \"$destinationC\" --transfers $transfersC --checkers $checkersC -v --stats=5s --delete-empty-src-dirs --drive-keep-revision-forever $compareC $dryrunC $extraC\n",
        "  elif Mode == 'Checker':\n",
        "    !rclone --config=/GD/\"$configC\" check \"$sourceC\" \"$destinationC\" --checkers $checkersC -v --stats=5s $compareC $dryrunC $extraC\n",
        "  elif Mode == 'Deduplicate':\n",
        "    !rclone --config=/GD/\"$configC\" dedupe \"$sourceC\" --checkers $checkersC -v --stats=5s --dedupe-mode $deduplicateC $deduplicatetrashC $compareC $dryrunC $extraC\n",
        "    \n",
        "if Log == True and Mode != \"Config\":\n",
        "  os.environ['logPathC'] = \"/\".join(Config.split(\"/\")[:-1])\n",
        "  !rclone --config=/GD/\"$configC\" move *.txt \"/GD/\"\"$logPathC\"\"/\" --transfers 1 --checkers 1 --max-depth 1 -c -q\n",
        "  !echo Your log will be ready at \\\"$logPathC\\\""
      ],
      "execution_count": 0,
      "outputs": []
    },
    {
      "metadata": {
        "id": "9OuICLXLLxce",
        "colab_type": "text"
      },
      "cell_type": "markdown",
      "source": [
        "# Installation"
      ]
    },
    {
      "metadata": {
        "id": "WFoR-3URJKAW",
        "colab_type": "code",
        "cellView": "form",
        "colab": {}
      },
      "cell_type": "code",
      "source": [
        "#@markdown <h3>Note: Run this before use.</h3> { display-mode: \"form\" }\n",
        "Setup_Time_Zone = True #@param {type:\"boolean\"}\n",
        "\n",
        "!curl https://rclone.org/install.sh | sudo bash\n",
        "if Setup_Time_Zone == True:\n",
        "  !sudo dpkg-reconfigure tzdata\n",
        "from google.colab import drive\n",
        "drive.mount('/GD')"
      ],
      "execution_count": 0,
      "outputs": []
    }
  ]
}